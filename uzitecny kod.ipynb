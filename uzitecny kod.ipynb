{
 "cells": [
  {
   "cell_type": "markdown",
   "id": "seven-maria",
   "metadata": {},
   "source": [
    "prihlasovani pomoci google auth"
   ]
  },
  {
   "cell_type": "code",
   "execution_count": 3,
   "id": "automated-contractor",
   "metadata": {},
   "outputs": [],
   "source": [
    "import tornado.web\n",
    "import tornado.auth\n",
    "class GoogleOAuth2LoginHandler(tornado.web.RequestHandler,\n",
    "                               tornado.auth.GoogleOAuth2Mixin):\n",
    "    async def get(self):\n",
    "        if self.get_argument('code', False):\n",
    "            user = await self.get_authenticated_user(\n",
    "                redirect_uri='http://your.site.com/auth/google',\n",
    "                code=self.get_argument('code'))\n",
    "            # Save the user with e.g. set_secure_cookie\n",
    "        else:\n",
    "            await self.authorize_redirect(\n",
    "                redirect_uri='http://your.site.com/auth/google',\n",
    "                client_id=self.settings['google_oauth']['key'],\n",
    "                scope=['profile', 'email'],\n",
    "                response_type='code',\n",
    "                extra_params={'approval_prompt': 'auto'})"
   ]
  }
 ],
 "metadata": {
  "kernelspec": {
   "display_name": "Python 3",
   "language": "python",
   "name": "python3"
  },
  "language_info": {
   "codemirror_mode": {
    "name": "ipython",
    "version": 3
   },
   "file_extension": ".py",
   "mimetype": "text/x-python",
   "name": "python",
   "nbconvert_exporter": "python",
   "pygments_lexer": "ipython3",
   "version": "3.8.8"
  }
 },
 "nbformat": 4,
 "nbformat_minor": 5
}
