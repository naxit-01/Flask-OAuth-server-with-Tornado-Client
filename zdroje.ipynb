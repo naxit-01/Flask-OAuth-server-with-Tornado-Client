{
 "cells": [
  {
   "cell_type": "markdown",
   "id": "legitimate-spain",
   "metadata": {},
   "source": [
    "odkazy na zdroje:\n",
    "priorita 0-od profesora\n",
    "         1-dulezite\n",
    "         2-zajimave\n",
    "         3-souvisejici\n",
    "         4-okrajove"
   ]
  },
  {
   "cell_type": "markdown",
   "id": "posted-harmony",
   "metadata": {},
   "source": [
    "priorita=0\n",
    "https://github.com/jupyterhub/oauthenticator\n",
    "    priorita=1\n",
    "    https://github.com/jupyterhub/oauthenticator/blob/master/docs/source/writing-an-oauthenticator.rst"
   ]
  },
  {
   "cell_type": "markdown",
   "id": "empty-slovenia",
   "metadata": {},
   "source": [
    "priorita=1\n",
    "https://docs.github.com/en/developers/apps/authorizing-oauth-apps"
   ]
  },
  {
   "cell_type": "markdown",
   "id": "concrete-society",
   "metadata": {},
   "source": [
    "priorita=2\n",
    "https://www.varonis.com/blog/what-is-oauth/"
   ]
  },
  {
   "cell_type": "markdown",
   "id": "junior-quilt",
   "metadata": {},
   "source": [
    "priorita=0\n",
    "https://github.com/authlib/example-oauth2-server "
   ]
  },
  {
   "cell_type": "markdown",
   "id": "instant-coordinator",
   "metadata": {},
   "source": [
    "priorita=1\n",
    "https://github.com/naxit-01/oauthenticator/blob/master/oauthenticator/generic.py"
   ]
  },
  {
   "cell_type": "markdown",
   "id": "designed-favorite",
   "metadata": {},
   "source": [
    "priorita=1\n",
    "https://gist.github.com/drgarcia1986/5dbd7ce85fb2db74a51b"
   ]
  },
  {
   "cell_type": "markdown",
   "id": "dominant-bleeding",
   "metadata": {},
   "source": [
    "?priorita=2\n",
    "https://www.tornadoweb.org/en/stable/auth.html"
   ]
  },
  {
   "cell_type": "markdown",
   "id": "integrated-consistency",
   "metadata": {},
   "source": [
    "priorita=3\n",
    "https://www.ory.sh/run-oauth2-server-open-source-api-security/"
   ]
  },
  {
   "cell_type": "markdown",
   "id": "defensive-prague",
   "metadata": {},
   "source": [
    "priorita=3 https://medium.com/google-cloud/understanding-oauth2-and-building-a-basic-authorization-server-of-your-own-a-beginners-guide-cf7451a16f66\n",
    "    https://medium.com/@ratrosy/building-a-basic-authorization-server-using-authorization-code-flow-c06866859fb1"
   ]
  }
 ],
 "metadata": {
  "kernelspec": {
   "display_name": "Python 3",
   "language": "python",
   "name": "python3"
  },
  "language_info": {
   "codemirror_mode": {
    "name": "ipython",
    "version": 3
   },
   "file_extension": ".py",
   "mimetype": "text/x-python",
   "name": "python",
   "nbconvert_exporter": "python",
   "pygments_lexer": "ipython3",
   "version": "3.8.8"
  }
 },
 "nbformat": 4,
 "nbformat_minor": 5
}
