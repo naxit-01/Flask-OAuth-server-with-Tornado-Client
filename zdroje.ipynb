{
 "cells": [
  {
   "cell_type": "raw",
   "id": "varying-elements",
   "metadata": {},
   "source": [
    "odkazy na zdroje:\n",
    "priorita 0-od profesora\n",
    "         1-dulezite\n",
    "         2-zajimave\n",
    "         3-souvisejici\n",
    "         4-okrajove"
   ]
  },
  {
   "cell_type": "raw",
   "id": "closed-administration",
   "metadata": {},
   "source": [
    "priorita=0\n",
    "https://github.com/authlib/example-oauth2-server "
   ]
  },
  {
   "cell_type": "raw",
   "id": "determined-cricket",
   "metadata": {},
   "source": [
    "priorita=0\n",
    "https://github.com/jupyterhub/oauthenticator\n",
    "    priorita=1\n",
    "    https://github.com/jupyterhub/oauthenticator/blob/master/docs/source/writing-an-oauthenticator.rst"
   ]
  },
  {
   "cell_type": "raw",
   "id": "upset-playing",
   "metadata": {},
   "source": [
    "priorita=1\n",
    "https://gist.github.com/drgarcia1986/5dbd7ce85fb2db74a51b"
   ]
  },
  {
   "cell_type": "raw",
   "id": "uniform-formation",
   "metadata": {},
   "source": [
    "?priorita=2\n",
    "https://www.tornadoweb.org/en/stable/auth.html"
   ]
  },
  {
   "cell_type": "raw",
   "id": "elegant-trail",
   "metadata": {},
   "source": [
    "priorita=3\n",
    "https://www.ory.sh/run-oauth2-server-open-source-api-security/"
   ]
  }
 ],
 "metadata": {
  "kernelspec": {
   "display_name": "Python 3",
   "language": "python",
   "name": "python3"
  },
  "language_info": {
   "codemirror_mode": {
    "name": "ipython",
    "version": 3
   },
   "file_extension": ".py",
   "mimetype": "text/x-python",
   "name": "python",
   "nbconvert_exporter": "python",
   "pygments_lexer": "ipython3",
   "version": "3.8.8"
  }
 },
 "nbformat": 4,
 "nbformat_minor": 5
}
