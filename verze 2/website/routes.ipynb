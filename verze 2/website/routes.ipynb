{
 "cells": [
  {
   "cell_type": "code",
   "execution_count": 1,
   "id": "broken-envelope",
   "metadata": {},
   "outputs": [],
   "source": [
    "# website/routes.py\n",
    "from flask import Blueprint\n",
    "bp = Blueprint(__name__, 'home')\n",
    "\n",
    "@bp.route('/')\n",
    "def home():\n",
    "    return 'Hello World!'"
   ]
  },
  {
   "cell_type": "code",
   "execution_count": null,
   "id": "organic-specific",
   "metadata": {},
   "outputs": [],
   "source": []
  }
 ],
 "metadata": {
  "kernelspec": {
   "display_name": "Python 3",
   "language": "python",
   "name": "python3"
  },
  "language_info": {
   "codemirror_mode": {
    "name": "ipython",
    "version": 3
   },
   "file_extension": ".py",
   "mimetype": "text/x-python",
   "name": "python",
   "nbconvert_exporter": "python",
   "pygments_lexer": "ipython3",
   "version": "3.8.8"
  }
 },
 "nbformat": 4,
 "nbformat_minor": 5
}
