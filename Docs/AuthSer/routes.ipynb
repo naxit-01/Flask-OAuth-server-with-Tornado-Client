{
 "cells": [
  {
   "cell_type": "code",
   "execution_count": null,
   "id": "soviet-large",
   "metadata": {},
   "outputs": [],
   "source": [
    "import time\n",
    "from flask import Blueprint, request, session, url_for\n",
    "from flask import render_template, redirect, jsonify\n",
    "from werkzeug.security import gen_salt\n",
    "from authlib.integrations.flask_oauth2 import current_token\n",
    "from authlib.oauth2 import OAuth2Error\n",
    "from .database import db, User, OAuth2Client, OAuth2Token\n",
    "from .oauth2 import authorization, require_oauth\n",
    "\n",
    "bp = Blueprint(__name__, 'home')"
   ]
  },
  {
   "cell_type": "markdown",
   "id": "frozen-geometry",
   "metadata": {},
   "source": [
    "pomocne fuknce pro praci, \n",
    "current user nam vraci aktualniho uzivatele\n",
    "split by crlf parcuje kod na radky"
   ]
  },
  {
   "cell_type": "code",
   "execution_count": null,
   "id": "medieval-bearing",
   "metadata": {},
   "outputs": [],
   "source": [
    "def current_user():\n",
    "    '''Returns user in active session'''\n",
    "    if 'id' in session:\n",
    "        uid = session['id']\n",
    "        return User.query.get(uid)\n",
    "    return None\n",
    "\n",
    "def split_by_crlf(s):\n",
    "    '''Helper function, split lines'''\n",
    "    return [v for v in s.splitlines() if v]\n"
   ]
  },
  {
   "cell_type": "markdown",
   "id": "organizational-pixel",
   "metadata": {},
   "source": [
    "# Hlavni stranka"
   ]
  },
  {
   "source": [
    "po zmacknuti tlacitka login se zjisti jestli uzivatel exituje pokud ne tak se vytvori jeho account, pokud ano tak se overi spravnost hesla\n"
   ],
   "cell_type": "markdown",
   "metadata": {}
  },
  {
   "cell_type": "code",
   "execution_count": null,
   "id": "twenty-graduation",
   "metadata": {},
   "outputs": [],
   "source": [
    "@bp.route('/', methods=('GET', 'POST'))\n",
    "def home():\n",
    "    '''Home page, allows to log in or create account (account serves to register a client)'''\n",
    "    if request.method == 'POST': # After pressing the button\n",
    "        username = request.form.get('username')\n",
    "        password = request.form.get('password')\n",
    "\n",
    "        # Find an account if it exists\n",
    "        user = User.query.filter_by(username=username).first()\n",
    "\n",
    "        # Create a new account if it does not exist\n",
    "        if not user:\n",
    "            user = User(username=username, password=password)\n",
    "            db.session.add(user)\n",
    "            db.session.commit()\n",
    "            session['id'] = user.id\n",
    "\n",
    "        # Check password for the existing account\n",
    "        else:\n",
    "            if user.checkPassword(password):\n",
    "                session['id'] = user.id\n",
    "                \n",
    "        # If redirect is send, redirect to it | otherwise load page again with logged account\n",
    "        next_page = request.args.get('next')\n",
    "        if next_page:\n",
    "            return redirect(next_page)\n",
    "        return redirect('/')\n",
    "\n",
    "    # Get information about the account\n",
    "    user = current_user()\n",
    "    if user:\n",
    "        clients = OAuth2Client.query.filter_by(user_id=user.id).all()\n",
    "    else:\n",
    "        clients = []\n",
    "\n",
    "    return render_template('home.html', user=user, clients=clients)\n",
    "\n",
    "\n"
   ]
  },
  {
   "cell_type": "markdown",
   "id": "wrapped-specialist",
   "metadata": {},
   "source": [
    "# Vytvoreni klienta "
   ]
  },
  {
   "source": [
    "po prihlaseni uzivatele"
   ],
   "cell_type": "markdown",
   "metadata": {}
  },
  {
   "cell_type": "code",
   "execution_count": null,
   "id": "grateful-shaft",
   "metadata": {},
   "outputs": [],
   "source": [
    "@bp.route('/create_client', methods=('GET', 'POST'))\n",
    "def create_client():\n",
    "    '''Handles client creation under an account'''\n",
    "    user = current_user()\n",
    "    if not user:\n",
    "        return redirect('/')\n",
    "    if request.method == 'GET':\n",
    "        return render_template('create_client.html')\n",
    "\n",
    "    client_id = gen_salt(24) # Generate unique client ID\n",
    "    client_id_issued_at = int(time.time())\n",
    "    client = OAuth2Client(\n",
    "        client_id=client_id,\n",
    "        client_id_issued_at=client_id_issued_at,\n",
    "        user_id=user.id,\n",
    "    )\n",
    "\n",
    "    # Collect information from html form\n",
    "    form = request.form\n",
    "    client_metadata = {\n",
    "        \"client_name\": form[\"client_name\"],\n",
    "        \"client_uri\": form[\"client_uri\"],\n",
    "        \"grant_types\": split_by_crlf(form[\"grant_type\"]),\n",
    "        \"redirect_uris\": split_by_crlf(form[\"redirect_uri\"]),\n",
    "        \"response_types\": split_by_crlf(form[\"response_type\"]),\n",
    "        \"scope\": form[\"scope\"],\n",
    "        \"token_endpoint_auth_method\": form[\"token_endpoint_auth_method\"]\n",
    "    }\n",
    "    client.set_client_metadata(client_metadata)\n",
    "\n",
    "    # Decide if client needs client secret\n",
    "    if form['token_endpoint_auth_method'] == 'none':\n",
    "        client.client_secret = ''\n",
    "    else:\n",
    "        client.client_secret = gen_salt(48)\n",
    "\n",
    "    # Add client into database\n",
    "    db.session.add(client)\n",
    "    db.session.commit()\n",
    "    return redirect('/')\n"
   ]
  },
  {
   "cell_type": "markdown",
   "id": "former-church",
   "metadata": {},
   "source": [
    "# Authorizace"
   ]
  },
  {
   "source": [],
   "cell_type": "markdown",
   "metadata": {}
  },
  {
   "cell_type": "code",
   "execution_count": null,
   "id": "international-hudson",
   "metadata": {},
   "outputs": [],
   "source": [
    "@bp.route('/oauth/authorize', methods=['GET', 'POST'])\n",
    "def authorize():\n",
    "    '''Authorize user on clients request'''\n",
    "    user = current_user()\n",
    "    if not user: # If no user is logged in, let it logg in through main page\n",
    "        return redirect(url_for('website.routes.home', next=request.url))\n",
    "\n",
    "    if request.method == 'GET': # Provide user with desired page\n",
    "        try:\n",
    "            grant = authorization.validate_consent_request(end_user=user) # Decise what grant is client (server) asking for\n",
    "        except OAuth2Error as error:\n",
    "            return error.error\n",
    "        return render_template('authorize.html', user=user, grant=grant) # Offer user to validate the grant\n",
    "    \n",
    "    if not user and 'username' in request.form: # Find user, if request was send as POST\n",
    "        username = request.form.get('username')\n",
    "        user = User.query.filter_by(username=username).first()\n",
    "\n",
    "    if request.method=='POST': # Action after button was pushed\n",
    "        if 'submit_button' in request.form: # Return to client with consent, if it was given\n",
    "            if request.form['confirm']:\n",
    "                grant_user = user\n",
    "            else:\n",
    "                grant_user = None\n",
    "            return authorization.create_authorization_response(grant_user=grant_user)\n",
    "\n",
    "        if 'changeuser_button' in request.form: # If user wants to log as someone else, redirect him to main login page\n",
    "            del session['id']\n",
    "            return redirect(url_for('website.routes.home', next=request.url))\n"
   ]
  },
  {
   "source": [],
   "cell_type": "markdown",
   "metadata": {}
  },
  {
   "cell_type": "code",
   "execution_count": null,
   "id": "productive-english",
   "metadata": {},
   "outputs": [],
   "source": [
    "@bp.route('/logout')\n",
    "def logout():\n",
    "    '''Delete session if someone loggs out'''\n",
    "    del session['id']\n",
    "    return redirect('/')\n",
    "\n"
   ]
  },
  {
   "source": [],
   "cell_type": "markdown",
   "metadata": {}
  },
  {
   "cell_type": "code",
   "execution_count": null,
   "id": "auburn-transmission",
   "metadata": {},
   "outputs": [],
   "source": [
    "@bp.route('/delete_AT')\n",
    "def delete_AT():\n",
    "    '''Delete access token, if request was sent'''\n",
    "    accessToken = request.args.get('access_token')\n",
    "    clientID = request.args.get(\"client_ID\")\n",
    "    token = OAuth2Token.query.filter_by(access_token=accessToken).first() # Finds token in database\n",
    "    return token.delete_access_token(clientID)\n",
    "\n"
   ]
  },
  {
   "source": [],
   "cell_type": "markdown",
   "metadata": {}
  },
  {
   "cell_type": "code",
   "execution_count": null,
   "id": "reflected-premium",
   "metadata": {},
   "outputs": [],
   "source": [
    "@bp.route('/oauth/token', methods=['POST'])\n",
    "def issue_token():\n",
    "    '''Issue access token'''\n",
    "    return authorization.create_token_response()"
   ]
  },
  {
   "source": [],
   "cell_type": "markdown",
   "metadata": {}
  },
  {
   "cell_type": "markdown",
   "id": "stainless-assistant",
   "metadata": {},
   "source": [
    "Vraci informace o uzivateli.\n",
    "Bylo definovano pri tvorbe clienta o jake informace muze zadat a zde je popsana funkce pro \"profile\"."
   ]
  },
  {
   "cell_type": "code",
   "execution_count": null,
   "id": "blessed-treaty",
   "metadata": {},
   "outputs": [],
   "source": [
    "@bp.route('/api/me')\n",
    "@require_oauth('profile')\n",
    "def api_me():\n",
    "    '''Returns requested user information in json format'''\n",
    "    user = current_token.user\n",
    "    return jsonify(id=user.id, username=user.username)"
   ]
  }
 ],
 "metadata": {
  "kernelspec": {
   "display_name": "Python 3",
   "language": "python",
   "name": "python3"
  },
  "language_info": {
   "codemirror_mode": {
    "name": "ipython",
    "version": 3
   },
   "file_extension": ".py",
   "mimetype": "text/x-python",
   "name": "python",
   "nbconvert_exporter": "python",
   "pygments_lexer": "ipython3",
   "version": "3.8.8"
  }
 },
 "nbformat": 4,
 "nbformat_minor": 5
}