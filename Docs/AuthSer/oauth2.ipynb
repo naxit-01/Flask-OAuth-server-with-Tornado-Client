{
 "cells": [
  {
   "cell_type": "code",
   "execution_count": null,
   "id": "toxic-continent",
   "metadata": {},
   "outputs": [],
   "source": [
    "from authlib.integrations.flask_oauth2 import (\n",
    "    AuthorizationServer,\n",
    "    ResourceProtector,\n",
    ")"
   ]
  },
  {
   "cell_type": "code",
   "execution_count": null,
   "id": "continuous-traveler",
   "metadata": {},
   "outputs": [],
   "source": []
  },
  {
   "cell_type": "code",
   "execution_count": null,
   "id": "color-scene",
   "metadata": {},
   "outputs": [],
   "source": [
    "from authlib.integrations.sqla_oauth2 import (\n",
    "    create_query_client_func,\n",
    "    create_save_token_func,\n",
    "    create_revocation_endpoint,\n",
    "    create_bearer_token_validator,\n",
    ")"
   ]
  },
  {
   "cell_type": "code",
   "execution_count": null,
   "id": "patent-engineer",
   "metadata": {},
   "outputs": [],
   "source": []
  },
  {
   "cell_type": "code",
   "execution_count": null,
   "id": "mature-upper",
   "metadata": {},
   "outputs": [],
   "source": [
    "from authlib.oauth2.rfc6749 import grants"
   ]
  },
  {
   "cell_type": "code",
   "execution_count": null,
   "id": "interstate-marks",
   "metadata": {},
   "outputs": [],
   "source": []
  },
  {
   "cell_type": "code",
   "execution_count": null,
   "id": "serial-recipient",
   "metadata": {},
   "outputs": [],
   "source": [
    "from authlib.oauth2.rfc7636 import CodeChallenge"
   ]
  },
  {
   "cell_type": "code",
   "execution_count": null,
   "id": "finnish-official",
   "metadata": {},
   "outputs": [],
   "source": [
    "from .database import db, User"
   ]
  },
  {
   "cell_type": "code",
   "execution_count": null,
   "id": "prepared-plant",
   "metadata": {},
   "outputs": [],
   "source": [
    "from .database import OAuth2Client, OAuth2AuthorizationCode, OAuth2Token"
   ]
  },
  {
   "cell_type": "code",
   "execution_count": null,
   "id": "protective-interview",
   "metadata": {},
   "outputs": [],
   "source": [
    "class AuthorizationCodeGrant(grants.AuthorizationCodeGrant):\n",
    "    '''Class for handling Authorization Code Grant method (code equels request token)'''\n",
    "    TOKEN_ENDPOINT_AUTH_METHODS = [\n",
    "        'client_secret_basic',\n",
    "        'client_secret_post',\n",
    "        'none',\n",
    "    ]\n",
    "\n",
    "    def save_authorization_code(self, code, request):\n",
    "        '''Create client specific authorization code (request token), save it into database, return it back'''\n",
    "        code_challenge = request.data.get('code_challenge')\n",
    "        code_challenge_method = request.data.get('code_challenge_method')\n",
    "\n",
    "        # Create unique code from user and client information\n",
    "        auth_code = OAuth2AuthorizationCode(\n",
    "            code=code,\n",
    "            client_id=request.client.client_id,\n",
    "            redirect_uri=request.redirect_uri,\n",
    "            scope=request.scope,\n",
    "            user_id=request.user.id,\n",
    "            code_challenge=code_challenge,\n",
    "            code_challenge_method=code_challenge_method,\n",
    "        )\n",
    "\n",
    "        # Save the code into database\n",
    "        db.session.add(auth_code)\n",
    "        db.session.commit()\n",
    "        return auth_code\n",
    "\n",
    "    def query_authorization_code(self, code, client):\n",
    "        '''Return authorization code (request token) from datase if it exists and is not expired'''\n",
    "        auth_code = OAuth2AuthorizationCode.query.filter_by(\n",
    "            code=code, client_id=client.client_id).first()\n",
    "        if auth_code and not auth_code.is_expired():\n",
    "            return auth_code\n",
    "\n",
    "    def delete_authorization_code(self, authorization_code):\n",
    "        '''Delete authorization code (request token) from database'''\n",
    "        db.session.delete(authorization_code)\n",
    "        db.session.commit()\n",
    "        \n",
    "    def delete_access_token(self, accessToken):\n",
    "        '''Delete access token from database'''\n",
    "        db.session.delete(accessToken)\n",
    "        de.session.commit()\n",
    "\n",
    "    def authenticate_user(self, authorization_code):\n",
    "        '''Check if provided authentication code (request token) is owned by the specific user'''\n",
    "        return User.query.get(authorization_code.user_id)\n"
   ]
  },
  {
   "cell_type": "code",
   "execution_count": null,
   "id": "cathedral-smoke",
   "metadata": {},
   "outputs": [],
   "source": [
    "# Create functions for communicating with database\n",
    "query_client = create_query_client_func(db.session, OAuth2Client)\n",
    "save_token = create_save_token_func(db.session, OAuth2Token)\n",
    "authorization = AuthorizationServer(\n",
    "    query_client=query_client,\n",
    "    save_token=save_token,\n",
    ")\n",
    "require_oauth = ResourceProtector()"
   ]
  },
  {
   "cell_type": "code",
   "execution_count": null,
   "id": "advised-cowboy",
   "metadata": {},
   "outputs": [],
   "source": [
    "def config_oauth(app):\n",
    "    '''Provides app configuration, defines which grant methods are supported'''\n",
    "    authorization.init_app(app)\n",
    "\n",
    "    # Grants\n",
    "    #authorization.register_grant(grants.ImplicitGrant)\n",
    "    #authorization.register_grant(grants.ClientCredentialsGrant)\n",
    "    authorization.register_grant(AuthorizationCodeGrant, [CodeChallenge(required=True)])\n",
    "    #authorization.register_grant(RefreshTokenGrant)\n",
    "\n",
    "    # Revocation support\n",
    "    '''\n",
    "    revocation_cls = create_revocation_endpoint(db.session, OAuth2Token)\n",
    "    authorization.register_endpoint(revocation_cls)\n",
    "    '''\n",
    "\n",
    "    # Allows usage of bearer tokens (higher security than common ones)\n",
    "    bearer_cls = create_bearer_token_validator(db.session, OAuth2Token)\n",
    "    require_oauth.register_token_validator(bearer_cls())"
   ]
  }
 ],
 "metadata": {
  "kernelspec": {
   "display_name": "Python 3",
   "language": "python",
   "name": "python3"
  },
  "language_info": {
   "codemirror_mode": {
    "name": "ipython",
    "version": 3
   },
   "file_extension": ".py",
   "mimetype": "text/x-python",
   "name": "python",
   "nbconvert_exporter": "python",
   "pygments_lexer": "ipython3",
   "version": "3.8.8"
  }
 },
 "nbformat": 4,
 "nbformat_minor": 5
}
