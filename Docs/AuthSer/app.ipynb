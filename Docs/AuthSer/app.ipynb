{
 "cells": [
  {
   "cell_type": "code",
   "execution_count": null,
   "id": "neural-contemporary",
   "metadata": {},
   "outputs": [],
   "source": [
    "import os\n",
    "from flask import Flask\n",
    "from website import *\n",
    "\n",
    "def create_app(config=None):\n",
    "    print(\"DEF CREATE_APP\")\n",
    "    app = Flask(__name__)\n",
    "\n",
    "    # Load default configuration\n",
    "    app.config.from_object('website.settings')\n",
    "\n",
    "    # Load environment configuration\n",
    "    if 'WEBSITE_CONF' in os.environ:\n",
    "        app.config.from_envvar('WEBSITE_CONF')\n",
    "\n",
    "    # Load app specified configuration\n",
    "    if config is not None:\n",
    "        if isinstance(config, dict):\n",
    "            app.config.update(config)\n",
    "        elif config.endswith('.py'):\n",
    "            app.config.from_pyfile(config)\n",
    "\n",
    "    setup_app(app)\n",
    "    return app\n",
    "\n",
    "def setup_app(app):\n",
    "    # Create database tables if they do not exist already\n",
    "    @app.before_first_request\n",
    "    def create_tables():\n",
    "        db.create_all()\n",
    "\n",
    "    db.init_app(app)\n",
    "    config_oauth(app)\n",
    "    app.register_blueprint(bp, url_prefix='')\n",
    "\n",
    "app = create_app({\n",
    "    'SECRET_KEY': 'secret',\n",
    "    'OAUTH2_REFRESH_TOKEN_GENERATOR': True,\n",
    "    'SQLALCHEMY_TRACK_MODIFICATIONS': False,\n",
    "    'SQLALCHEMY_DATABASE_URI': 'sqlite:///db.sqlite',\n",
    "})\n",
    "\n",
    "app.run(host='0.0.0.0', port=5000, debug=False)"
   ]
  }
 ],
 "metadata": {
  "kernelspec": {
   "display_name": "Python 3",
   "language": "python",
   "name": "python3"
  },
  "language_info": {
   "codemirror_mode": {
    "name": "ipython",
    "version": 3
   },
   "file_extension": ".py",
   "mimetype": "text/x-python",
   "name": "python",
   "nbconvert_exporter": "python",
   "pygments_lexer": "ipython3",
   "version": "3.8.8"
  }
 },
 "nbformat": 4,
 "nbformat_minor": 5
}
