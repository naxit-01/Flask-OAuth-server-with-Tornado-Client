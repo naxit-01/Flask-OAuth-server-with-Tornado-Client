{
 "cells": [
  {
   "cell_type": "markdown",
   "id": "orange-generic",
   "metadata": {},
   "source": [
    "# Client_sample "
   ]
  },
  {
   "cell_type": "markdown",
   "id": "certified-wiring",
   "metadata": {},
   "source": [
    "Při vytvaření clienta na auth serveru jsme ziskali dulezite kody. ClientID a ClientSecret. Oba je potreba na pevno priřadit k promennym. Dale se s nimi pracuje. \n",
    "\n",
    "Z modulu importujeme funkce pro asynchroni request komunikaci"
   ]
  },
  {
   "cell_type": "code",
   "execution_count": null,
   "id": "informal-tract",
   "metadata": {},
   "outputs": [],
   "source": [
    "import tornado.ioloop\n",
    "import tornado.web\n",
    "import json\n",
    "import aiohttp\n",
    "from moduls import * # Contains a module for asynchronous requests\n",
    "\n",
    "g_ClientID=\"MrVDUUQ3rdOthdg0T8tvNm68\"\n",
    "g_ClientSecret=\"T7pKWd3hPYBnz7GLj7akMItPJq91NbGTTnIevUv269LaF0So\"\n"
   ]
  },
  {
   "cell_type": "markdown",
   "id": "hollywood-innocent",
   "metadata": {},
   "source": [
    "V promenne g_port definujeme na jakem portu nam client pobezi.\n",
    "G_authServerPublic je promenna typu string ve ktere mame zapsane host + port authorizacniho serveru na ktery se prepojujeme pomoci redirect\n",
    "G_authServerDocker je promenna typu string ve ktere mame zapsane host + port authorizacniho serveru pro fukce get/post v pripade ze auth server bezi v dockeru. Pokud v dockeru nebezi je nutne promennou nahradit hodnotou g_authServerPublic."
   ]
  },
  {
   "cell_type": "code",
   "execution_count": null,
   "id": "forbidden-margin",
   "metadata": {},
   "outputs": [],
   "source": [
    "g_port = 9999\n",
    "g_authServerPublic = \"http://127.0.0.1:5000\"\n",
    "g_authServerDocker = \"http://172.16.238.1:5000\" # Adress for docker inner tunneling\n",
    "\n",
    "'''**************************************************'''\n",
    "\n"
   ]
  },
  {
   "cell_type": "markdown",
   "id": "another-identity",
   "metadata": {},
   "source": [
    "## Uvodni strana"
   ]
  },
  {
   "cell_type": "markdown",
   "id": "characteristic-complex",
   "metadata": {},
   "source": [
    "Primitivni uvodni strana, kde se nachazi dve tlacitka. Funkcni je pouze tlacitko na prepojeni na authserver. Pri redirect posilame na auth server informace o tom co pozadujeme, kdo jsme a jakou metodou to pozadujeme. response_type=code -> Budeme se bavit tokem authorization code. To znamena ze dostaneme athorizacni kod, ktery pam smenime za access token. Scope=profile -> Celkove pozadujeme informace o uzivateli typu profile. Vice definovano v authserver"
   ]
  },
  {
   "cell_type": "code",
   "execution_count": null,
   "id": "corresponding-congress",
   "metadata": {},
   "outputs": [],
   "source": [
    "class loginPage(tornado.web.RequestHandler):\n",
    "\tdef get(self):\n",
    "\t\tself.render(\"templates/loginPage.html\")\n",
    "\n",
    "\tdef post(self):\n",
    "\t\t'''Redirect user to authorization server, you will receive a code (request token) in redirect URL'''\n",
    "\t\tif self.get_argument(\"authSer_button\", None) != None:\n",
    "\t\t\tself.redirect(tornado.httputil.url_concat(g_authServerPublic + \"/oauth/authorize\", \n",
    "\t\t\t[(\"response_type\",\"code\"), \n",
    "\t\t\t(\"client_id\",g_ClientID),\n",
    "\t\t\t(\"scope\",\"profile\")]))\n",
    "\t\t\t\n",
    "\t\tif self.get_argument(\"googleAuth_button\", None) != None:\n",
    "\t\t\tself.write(\"This part has not been programmed yet.\")\n",
    "\t\t\n",
    "\n"
   ]
  },
  {
   "cell_type": "markdown",
   "id": "flying-merchant",
   "metadata": {},
   "source": [
    "# AfterLog"
   ]
  },
  {
   "cell_type": "markdown",
   "id": "aware-mississippi",
   "metadata": {},
   "source": [
    "Sem jsme prepojeni po uspesne authorizaci uzivatele na authorizacnim serveru. Pri prepojeni ziskavame auth code, ktery nasledne menime za access token. Opet pridavame informace o tom kdo jsme, a co chceme. Aby se nestalo ze nekdo jiny nahodne vygeneruje nas auth code a pouzije ho misto nas.\n",
    "\n",
    "Kdyz ziskame access token tak ten uz konecne muzeme vyuzit k ziskani dat o uzivateli. Jednoduse metodou get, kde jen pripojime jako parametr ziskany access token.\n",
    "\n",
    "Po ziskani dat se prepojime na nasi hlavni stranu s prislusnymi parametry."
   ]
  },
  {
   "cell_type": "code",
   "execution_count": null,
   "id": "improved-input",
   "metadata": {},
   "outputs": [],
   "source": [
    "class afterLog(tornado.web.RequestHandler):\n",
    "\tasync def get(self):\n",
    "\t\t'''Exchange code (request token) for access token, fetch user data'''\n",
    "\t\tcode = self.get_query_argument(\"code\")\n",
    "\t\tprint(\"Acquired code: \" + str(code))\n",
    "\n",
    "\t\t# Token exchange\n",
    "\t\tfiles = {\n",
    "\t\t\t'grant_type': 'authorization_code',\n",
    "\t\t\t'scope': 'profile',\n",
    "\t\t\t'code': code,\n",
    "\t\t}\n",
    "\t\tresponse = await post_request_with_files(g_authServerDocker + \"/oauth/token\", data=files, ClientID=g_ClientID, ClientSecret=g_ClientSecret)\n",
    "\t\taccess_token = response[\"access_token\"]\n",
    "\t\tprint(\"Acquired access token: \" + access_token)\n",
    "\t\t\n",
    "\t\t# Fetch user data\n",
    "\t\theaders = {\n",
    "\t\t\t'Authorization': f\"Bearer {access_token}\",\n",
    "\t\t}\n",
    "\t\tresponse = await get_request_with_headers(g_authServerDocker + \"/api/me\", data=headers)\n",
    "\t\tprint(\"Data o uzivateli ziskana: \" + str(response))\n",
    "\n",
    "\t\tdata = {\"username\":response[\"username\"],  \"access_token\":access_token}\n",
    "\t\tself.redirect(tornado.httputil.url_concat('mainPage', data))\n",
    "\n"
   ]
  },
  {
   "cell_type": "markdown",
   "id": "false-integrity",
   "metadata": {},
   "source": [
    "# Hlavni strana"
   ]
  },
  {
   "cell_type": "markdown",
   "id": "flush-school",
   "metadata": {},
   "source": [
    "Tlacitkem logout odesilame na auth server pozadavek o zruseni access tokenu. Jako parametry udavame nase ID a samozrejme access token, ktery chceme nechat smazat"
   ]
  },
  {
   "cell_type": "code",
   "execution_count": null,
   "id": "dental-restriction",
   "metadata": {},
   "outputs": [],
   "source": [
    "class mainPage(tornado.web.RequestHandler):\n",
    "\tdef get(self):\n",
    "\t\tself.render(\"templates/afterLog.html\", title=\"Client Main Page\", data=self)\n",
    "\n",
    "\tasync def post(self):\n",
    "\t\t'''Log out and send a request to delete access token'''\n",
    "\t\tif self.get_argument(\"logOut_button\", None) != None:\n",
    "\t\t\tprint(\"logOut\")\n",
    "\n",
    "\t\t\tdata = {\n",
    "\t\t\t\t'access_token': self.get_argument(\"access_token\"),\n",
    "\t\t\t\t'client_ID':g_ClientID,\n",
    "\t\t\t}\n",
    "\t\t\tawait get_request_with_params(g_authServerDocker + '/delete_AT', data)\n",
    "\n",
    "\t\t\tself.redirect('/')\n",
    "\n",
    "\t\tif self.get_argument(\"nothing_button\", None) != None:\n",
    "\t\t\tself.write(\"What did you expect? Told you, I do nothing.\")\n",
    "\n",
    "\n",
    "\n"
   ]
  },
  {
   "cell_type": "markdown",
   "id": "august-reynolds",
   "metadata": {},
   "source": [
    "prepojovani do prislusnych trid na zakladade url stromu"
   ]
  },
  {
   "cell_type": "code",
   "execution_count": null,
   "id": "norman-institute",
   "metadata": {},
   "outputs": [],
   "source": [
    "application = tornado.web.Application([\n",
    "\t(r\"/\", loginPage),\n",
    "\t(r\"/afterLog\", afterLog),\n",
    "\t(r\"/mainPage\", mainPage),\n",
    "])"
   ]
  },
  {
   "source": [
    "hlavni kod aplikace. Spousti server a definuje port na kterem bude poslouchat."
   ],
   "cell_type": "markdown",
   "metadata": {}
  },
  {
   "cell_type": "code",
   "execution_count": null,
   "id": "exterior-money",
   "metadata": {},
   "outputs": [],
   "source": [
    "if __name__ == \"__main__\":\n",
    "\tapplication.listen(g_port)\n",
    "\tprint(\"Client_sample running on port: \" + str(g_port) + \"...\")\n",
    "\ttornado.ioloop.IOLoop.instance().start()"
   ]
  },
  {
   "cell_type": "code",
   "execution_count": null,
   "metadata": {},
   "outputs": [],
   "source": [
    "\n",
    "\n",
    "async def get_request(url):\n",
    "\tasync with aiohttp.ClientSession() as session:\n",
    "\t\tasync with session.get(url) as resp:\n",
    "\t\t\treturn await resp.text()\n",
    "async def get_request_with_headers(url, data):\n",
    "    async with aiohttp.ClientSession() as session:\n",
    "        async with session.get(url=url, headers=data) as resp:\n",
    "            return await resp.json()\n",
    "async def post_request_with_files(url, data, ClientID, ClientSecret):\n",
    "\tasync with aiohttp.ClientSession(auth=aiohttp.BasicAuth(ClientID,ClientSecret)) as session:\n",
    "\t\tasync with session.post(url, data=data) as resp:\n",
    "\t\t\treturn await resp.json()\n",
    "async def get_request_with_params(url, data):\n",
    "    async with aiohttp.ClientSession() as session:\n",
    "        async with session.get(url=url, params=data) as resp:\n",
    "            return await resp.text()\t\n"
   ]
  }
 ],
 "metadata": {
  "kernelspec": {
   "display_name": "Python 3",
   "language": "python",
   "name": "python3"
  },
  "language_info": {
   "codemirror_mode": {
    "name": "ipython",
    "version": 3
   },
   "file_extension": ".py",
   "mimetype": "text/x-python",
   "name": "python",
   "nbconvert_exporter": "python",
   "pygments_lexer": "ipython3",
   "version": "3.8.8"
  }
 },
 "nbformat": 4,
 "nbformat_minor": 5
}