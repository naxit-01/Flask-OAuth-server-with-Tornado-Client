{
 "cells": [
  {
   "cell_type": "code",
   "execution_count": null,
   "id": "developing-serbia",
   "metadata": {},
   "outputs": [],
   "source": [
    "\n",
    "\n"
   ]
  },
  {
   "cell_type": "markdown",
   "id": "higher-highland",
   "metadata": {},
   "source": [
    "asdkj\n"
   ]
  },
  {
   "cell_type": "code",
   "execution_count": null,
   "id": "tamil-beast",
   "metadata": {},
   "outputs": [],
   "source": [
    "\n",
    "\n",
    "\n",
    "import aiohttp\n",
    "\n",
    "async def get_request(url):\n",
    "\tasync with aiohttp.ClientSession() as session:\n",
    "\t\tasync with session.get(url) as resp:\n",
    "\t\t\treturn await resp.text()\n",
    "async def get_request_with_headers(url, data):\n",
    "    async with aiohttp.ClientSession() as session:\n",
    "        async with session.get(url=url, headers=data) as resp:\n",
    "            return await resp.json()\n",
    "async def post_request_with_files(url, data, ClientID, ClientSecret):\n",
    "\tasync with aiohttp.ClientSession(auth=aiohttp.BasicAuth(ClientID,ClientSecret)) as session:\n",
    "\t\tasync with session.post(url, data=data) as resp:\n",
    "\t\t\treturn await resp.json()\n",
    "async def get_request_with_params(url, data):\n",
    "    async with aiohttp.ClientSession() as session:\n",
    "        async with session.get(url=url, params=data) as resp:\n",
    "            return await resp.text()\t\n"
   ]
  },
  {
   "cell_type": "code",
   "execution_count": null,
   "id": "brazilian-teaching",
   "metadata": {},
   "outputs": [],
   "source": []
  },
  {
   "cell_type": "code",
   "execution_count": null,
   "id": "demographic-compact",
   "metadata": {},
   "outputs": [],
   "source": []
  }
 ],
 "metadata": {
  "kernelspec": {
   "display_name": "Python 3",
   "language": "python",
   "name": "python3"
  },
  "language_info": {
   "codemirror_mode": {
    "name": "ipython",
    "version": 3
   },
   "file_extension": ".py",
   "mimetype": "text/x-python",
   "name": "python",
   "nbconvert_exporter": "python",
   "pygments_lexer": "ipython3",
   "version": "3.8.8"
  }
 },
 "nbformat": 4,
 "nbformat_minor": 5
}